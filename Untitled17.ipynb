{
  "nbformat": 4,
  "nbformat_minor": 0,
  "metadata": {
    "colab": {
      "provenance": [],
      "authorship_tag": "ABX9TyOPfKkDCxBRliJqIcuTtSPg",
      "include_colab_link": true
    },
    "kernelspec": {
      "name": "python3",
      "display_name": "Python 3"
    },
    "language_info": {
      "name": "python"
    }
  },
  "cells": [
    {
      "cell_type": "markdown",
      "metadata": {
        "id": "view-in-github",
        "colab_type": "text"
      },
      "source": [
        "<a href=\"https://colab.research.google.com/github/abhinavdey1920/abhinav-repo/blob/main/Untitled17.ipynb\" target=\"_parent\"><img src=\"https://colab.research.google.com/assets/colab-badge.svg\" alt=\"Open In Colab\"/></a>"
      ]
    },
    {
      "cell_type": "code",
      "execution_count": null,
      "metadata": {
        "id": "4fVrmGzPK_3i"
      },
      "outputs": [],
      "source": [
        "import numpy as np\n",
        "import matplotlib.pyplot as plt\n",
        "import pandas as pd"
      ]
    },
    {
      "cell_type": "code",
      "source": [
        "training_datset=pd.read_csv('/content/Training.csv')\n",
        "testing_dataset=pd.read_csv('/content/Testing.csv')"
      ],
      "metadata": {
        "id": "4wehRQnsLH6B"
      },
      "execution_count": null,
      "outputs": []
    },
    {
      "cell_type": "code",
      "source": [
        "X = training_datset.iloc[:, 0:132].values\n",
        "#print(X)\n",
        "y = training_datset.iloc[:, -1].values\n",
        "#print(y)"
      ],
      "metadata": {
        "id": "FTP8klhnMWr4"
      },
      "execution_count": null,
      "outputs": []
    },
    {
      "cell_type": "code",
      "source": [
        "dimensionality_reduction = training_datset.groupby(training_datset['prognosis']).max()"
      ],
      "metadata": {
        "id": "bBVKtt_rMiiN"
      },
      "execution_count": null,
      "outputs": []
    },
    {
      "cell_type": "code",
      "source": [
        "from sklearn.preprocessing import LabelEncoder\n",
        "labelencoder = LabelEncoder()\n",
        "y = labelencoder.fit_transform(y)"
      ],
      "metadata": {
        "id": "JSIrurLIMslS"
      },
      "execution_count": null,
      "outputs": []
    },
    {
      "cell_type": "code",
      "source": [
        "from sklearn.model_selection import train_test_split\n",
        "X_train, X_test, y_train, y_test = train_test_split(X, y, test_size = 0.25, random_state = 0)"
      ],
      "metadata": {
        "id": "wJMnkerQM8Xu"
      },
      "execution_count": null,
      "outputs": []
    },
    {
      "cell_type": "code",
      "source": [
        "from sklearn.tree import DecisionTreeClassifier\n",
        "classifier = DecisionTreeClassifier()\n",
        "classifier.fit(X_train, y_train)"
      ],
      "metadata": {
        "colab": {
          "base_uri": "https://localhost:8080/"
        },
        "id": "vrcH47aPNBkA",
        "outputId": "fe71f370-ee26-4be0-99e9-fff44bab98c1"
      },
      "execution_count": null,
      "outputs": [
        {
          "output_type": "execute_result",
          "data": {
            "text/plain": [
              "DecisionTreeClassifier()"
            ]
          },
          "metadata": {},
          "execution_count": 7
        }
      ]
    },
    {
      "cell_type": "code",
      "source": [
        "cols     = training_datset.columns\n",
        "cols     = cols[:-1]"
      ],
      "metadata": {
        "id": "LjezSsTGNMzP"
      },
      "execution_count": null,
      "outputs": []
    },
    {
      "cell_type": "code",
      "source": [
        "importances = classifier.feature_importances_\n",
        "indices = np.argsort(importances)[::-1]\n",
        "features = cols\n",
        "\n",
        "# Implementing the Visual Tree\n",
        "from sklearn.tree import _tree\n"
      ],
      "metadata": {
        "id": "O6lar9SUNXbM"
      },
      "execution_count": null,
      "outputs": []
    },
    {
      "cell_type": "code",
      "source": [
        "def execute_bot():\n",
        "\n",
        "    print(\"Please reply with yes/Yes or no/No for the following symptoms\") \n",
        "    def print_disease(node):\n",
        "        #print(node)\n",
        "        node = node[0]\n",
        "        \n",
        "        #print(len(node))\n",
        "        val  = node.nonzero() \n",
        "        #print(val)\n",
        "        disease = labelencoder.inverse_transform(val[0])\n",
        "        return disease\n",
        "    def tree_to_code(tree, feature_names):\n",
        "        tree_ = tree.tree_\n",
        "        #print(tree_)\n",
        "        feature_name = [\n",
        "            feature_names[i] if i != _tree.TREE_UNDEFINED else \"undefined!\"\n",
        "            for i in tree_.feature\n",
        "        ]\n",
        "        #print(\"def tree({}):\".format(\", \".join(feature_names)))\n",
        "        symptoms_present = []\n",
        "        def recurse(node, depth):\n",
        "            indent = \"  \" * depth\n",
        "            if tree_.feature[node] != _tree.TREE_UNDEFINED:\n",
        "                name = feature_name[node]\n",
        "                threshold = tree_.threshold[node]\n",
        "                print(name + \" ?\")\n",
        "                ans = input()\n",
        "                ans = ans.lower()\n",
        "                if ans == 'yes':\n",
        "                    val = 1\n",
        "                else:\n",
        "                    val = 0\n",
        "                if  val <= threshold:\n",
        "                    recurse(tree_.children_left[node], depth + 1)\n",
        "                else:\n",
        "                    symptoms_present.append(name)\n",
        "                    recurse(tree_.children_right[node], depth + 1)\n",
        "            else:\n",
        "                present_disease = print_disease(tree_.value[node])\n",
        "                print( \"You may have \" +  present_disease )\n",
        "                print()\n",
        "                red_cols = dimensionality_reduction.columns \n",
        "                symptoms_given = red_cols[dimensionality_reduction.loc[present_disease].values[0].nonzero()]\n",
        "                print(\"symptoms present  \" + str(list(symptoms_present)))\n",
        "                print()\n",
        "                print(\"symptoms given \"  +  str(list(symptoms_given)) )  \n",
        "                print()\n",
        "                confidence_level = (1.0*len(symptoms_present))/len(symptoms_given)\n",
        "                print(\"confidence level is \" + str(confidence_level))\n",
        "                print()\n",
        "                print('The model suggests:')\n",
        "                print()\n",
        "                row = doctors[doctors['disease'] == present_disease[0]]\n",
        "                print('Consult ', str(row['name'].values))\n",
        "                print()\n",
        "                print('Visit ', str(row['link'].values))\n",
        "                #print(present_disease[0])\n",
        "                \n",
        "    \n",
        "        recurse(0, 1)\n",
        "    \n",
        "    tree_to_code(classifier,cols)\n",
        "\n"
      ],
      "metadata": {
        "id": "zVhyYWY9NhBm"
      },
      "execution_count": null,
      "outputs": []
    },
    {
      "cell_type": "code",
      "source": [
        "doc_dataset = pd.read_csv('/content/doctors_dataset.csv', names = ['Name', 'Description'])\n",
        "\n",
        "\n",
        "diseases = dimensionality_reduction.index\n",
        "diseases = pd.DataFrame(diseases)\n",
        "\n",
        "doctors = pd.DataFrame()\n",
        "doctors['name'] = np.nan\n",
        "doctors['link'] = np.nan\n",
        "doctors['disease'] = np.nan\n",
        "\n",
        "doctors['disease'] = diseases['prognosis']\n",
        "\n",
        "\n",
        "doctors['name'] = doc_dataset['Name']\n",
        "doctors['link'] = doc_dataset['Description']\n",
        "\n",
        "record = doctors[doctors['disease'] == 'AIDS']\n",
        "record['name']\n",
        "record['link']\n",
        "\n",
        "\n",
        "\n",
        "\n",
        "# Execute the bot and see it in Action\n",
        "execute_bot()\n"
      ],
      "metadata": {
        "colab": {
          "base_uri": "https://localhost:8080/"
        },
        "id": "eUKIs6f0NuY_",
        "outputId": "08433fd5-6584-4b56-84ac-cbebeb670ef4"
      },
      "execution_count": null,
      "outputs": [
        {
          "output_type": "stream",
          "name": "stdout",
          "text": [
            "Please reply with yes/Yes or no/No for the following symptoms\n",
            "palpitations ?\n",
            "no\n",
            "pain_behind_the_eyes ?\n",
            "yes\n",
            "['You may have Dengue']\n",
            "\n",
            "symptoms present  ['pain_behind_the_eyes']\n",
            "\n",
            "symptoms given ['skin_rash', 'chills', 'joint_pain', 'vomiting', 'fatigue', 'high_fever', 'headache', 'nausea', 'loss_of_appetite', 'pain_behind_the_eyes', 'back_pain', 'malaise', 'muscle_pain', 'red_spots_over_body']\n",
            "\n",
            "confidence level is 0.07142857142857142\n",
            "\n",
            "The model suggests:\n",
            "\n",
            "Consult  ['Dr. Ajay Jain']\n",
            "\n",
            "Visit  ['https://www.practo.com/delhi/doctor/dr-ajay-jain-ear-nose-throat-ent-specialist-1?specialization=Ear-Nose-Throat%20(ENT)%20Specialist&practice_id=664069']\n"
          ]
        }
      ]
    }
  ]
}