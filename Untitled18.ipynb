{
  "nbformat": 4,
  "nbformat_minor": 0,
  "metadata": {
    "colab": {
      "provenance": [],
      "authorship_tag": "ABX9TyPxLXNBLC7Y0mgaTqDrCKTg",
      "include_colab_link": true
    },
    "kernelspec": {
      "name": "python3",
      "display_name": "Python 3"
    },
    "language_info": {
      "name": "python"
    }
  },
  "cells": [
    {
      "cell_type": "markdown",
      "metadata": {
        "id": "view-in-github",
        "colab_type": "text"
      },
      "source": [
        "<a href=\"https://colab.research.google.com/github/abhinavdey1920/abhinav-repo/blob/main/Untitled18.ipynb\" target=\"_parent\"><img src=\"https://colab.research.google.com/assets/colab-badge.svg\" alt=\"Open In Colab\"/></a>"
      ]
    },
    {
      "cell_type": "code",
      "execution_count": null,
      "metadata": {
        "id": "ovHqqtwY0b3W"
      },
      "outputs": [],
      "source": [
        "import numpy as np\n",
        "import matplotlib.pyplot as plt\n",
        "import pandas as pd"
      ]
    },
    {
      "cell_type": "code",
      "source": [
        "pip install xlrd"
      ],
      "metadata": {
        "colab": {
          "base_uri": "https://localhost:8080/"
        },
        "id": "qQncnWdK04mU",
        "outputId": "a6b564e0-547a-4677-bf95-fd9d975b94bd"
      },
      "execution_count": null,
      "outputs": [
        {
          "output_type": "stream",
          "name": "stdout",
          "text": [
            "Requirement already satisfied: xlrd in /usr/local/lib/python3.7/dist-packages (1.1.0)\n"
          ]
        }
      ]
    },
    {
      "cell_type": "code",
      "source": [
        "df=pd.read_csv('/content/Covid-Symptomatic-vs-Asymptomatic-dataset(1).csv')"
      ],
      "metadata": {
        "id": "xYgZfHPyH7j4"
      },
      "execution_count": null,
      "outputs": []
    },
    {
      "cell_type": "code",
      "source": [
        "df.head\n"
      ],
      "metadata": {
        "colab": {
          "base_uri": "https://localhost:8080/"
        },
        "id": "XACWYj_nIaj0",
        "outputId": "02bc5cbf-2d68-4c5b-ca7b-55f54c695256"
      },
      "execution_count": null,
      "outputs": [
        {
          "output_type": "execute_result",
          "data": {
            "text/plain": [
              "<bound method NDFrame.head of     cough   Sneeze   Loss of taste   headache   dry cough  Breathlesness  \\\n",
              "0        1        1               1          0          0              0   \n",
              "1        0        0               0          0          0              0   \n",
              "2        1        1               1          1          1              1   \n",
              "3        1        1               0          1          0              0   \n",
              "4        0        1               1          0          0              0   \n",
              "..     ...      ...             ...        ...        ...            ...   \n",
              "94       0        1               1          0          0              0   \n",
              "95       0        1               0          0          0              0   \n",
              "96       1        1               1          1          1              1   \n",
              "97       0        1               1          1          1              1   \n",
              "98       0        0               0          0          0              0   \n",
              "\n",
              "    Diaorrhoea    Covid Type  \n",
              "0            0          Mild  \n",
              "1            0  Asymptomatic  \n",
              "2            1      Critical  \n",
              "3            1          Mild  \n",
              "4            0          Mild  \n",
              "..         ...           ...  \n",
              "94           0          Mild  \n",
              "95           0  Asymptomatic  \n",
              "96           1      Critical  \n",
              "97           1      Critical  \n",
              "98           0  Asymptomatic  \n",
              "\n",
              "[99 rows x 8 columns]>"
            ]
          },
          "metadata": {},
          "execution_count": 4
        }
      ]
    },
    {
      "cell_type": "code",
      "source": [
        "X=df.drop(['Covid Type'],axis=1)\n",
        "Y=df['Covid Type']"
      ],
      "metadata": {
        "id": "_4RuX1xlI41w"
      },
      "execution_count": null,
      "outputs": []
    },
    {
      "cell_type": "code",
      "source": [
        "from sklearn.preprocessing import LabelEncoder\n",
        "labelencoder = LabelEncoder()\n",
        "Y = labelencoder.fit_transform(Y)"
      ],
      "metadata": {
        "id": "OWu4ZHv3NDNa"
      },
      "execution_count": null,
      "outputs": []
    },
    {
      "cell_type": "code",
      "source": [
        "from sklearn.model_selection import train_test_split\n",
        "X_train, X_test, y_train, y_test = train_test_split(X, Y, test_size = 0.25, random_state = 0)"
      ],
      "metadata": {
        "id": "PtNTA2bkLZdl"
      },
      "execution_count": null,
      "outputs": []
    },
    {
      "cell_type": "code",
      "source": [
        "from sklearn.tree import DecisionTreeClassifier\n",
        "classifier = DecisionTreeClassifier()\n",
        "classifier.fit(X_train, y_train)"
      ],
      "metadata": {
        "colab": {
          "base_uri": "https://localhost:8080/"
        },
        "id": "O6CSoFz7LrXw",
        "outputId": "2e66bb2e-5868-4bd6-c0cc-cdb02a064501"
      },
      "execution_count": null,
      "outputs": [
        {
          "output_type": "execute_result",
          "data": {
            "text/plain": [
              "DecisionTreeClassifier()"
            ]
          },
          "metadata": {},
          "execution_count": 8
        }
      ]
    },
    {
      "cell_type": "code",
      "source": [
        "cols     = df.columns\n",
        "cols     = cols[:-1]"
      ],
      "metadata": {
        "id": "Z9IzY-ITLzam"
      },
      "execution_count": null,
      "outputs": []
    },
    {
      "cell_type": "code",
      "source": [
        "importances = classifier.feature_importances_\n",
        "indices = np.argsort(importances)[::-1]\n",
        "features = cols\n",
        "\n",
        "# Implementing the Visual Tree\n",
        "from sklearn.tree import _tree\n"
      ],
      "metadata": {
        "id": "s8j1lN4nMAry"
      },
      "execution_count": null,
      "outputs": []
    },
    {
      "cell_type": "code",
      "source": [
        "def execute_bot():\n",
        "\n",
        "    print(\"Please reply with yes/Yes or no/No for the following symptoms\")\n",
        "    def print_disease(node):\n",
        "        #print(node)\n",
        "        node = node[0]\n",
        "\n",
        "        #print(len(node))\n",
        "        val  = node.nonzero()\n",
        "        #print(val)\n",
        "        disease = labelencoder.inverse_transform(val[0])\n",
        "        return disease\n",
        "    def tree_to_code(tree, feature_names):\n",
        "        tree_ = tree.tree_\n",
        "        #print(tree_)\n",
        "        feature_name = [\n",
        "            feature_names[i] if i != _tree.TREE_UNDEFINED else \"undefined!\"\n",
        "            for i in tree_.feature\n",
        "        ]\n",
        "        #print(\"def tree({}):\".format(\", \".join(feature_names)))\n",
        "        symptoms_present = []\n",
        "        def recurse(node, depth):\n",
        "            indent = \"  \" * depth\n",
        "            if tree_.feature[node] != _tree.TREE_UNDEFINED:\n",
        "                name = feature_name[node]\n",
        "                threshold = tree_.threshold[node]\n",
        "                print(name + \" ?\")\n",
        "                ans = input()\n",
        "                ans = ans.lower()\n",
        "                if ans == 'yes':\n",
        "                    val = 1\n",
        "                else:\n",
        "                    val = 0\n",
        "                if  val <= threshold:\n",
        "                    recurse(tree_.children_left[node], depth + 1)\n",
        "                else:\n",
        "                    symptoms_present.append(name)\n",
        "                    recurse(tree_.children_right[node], depth + 1)\n",
        "            else:\n",
        "                present_disease = print_disease(tree_.value[node])\n",
        "                print( \"You are a \" +  present_disease )\n",
        "                print()\n",
        "\n",
        "\n",
        "\n",
        "\n",
        "                #print(present_disease[0])\n",
        "\n",
        "\n",
        "        recurse(0, 1)\n",
        "\n",
        "    tree_to_code(classifier,cols)"
      ],
      "metadata": {
        "id": "i1N7z_ySMKVs"
      },
      "execution_count": null,
      "outputs": []
    },
    {
      "cell_type": "code",
      "source": [
        "execute_bot()"
      ],
      "metadata": {
        "colab": {
          "base_uri": "https://localhost:8080/"
        },
        "id": "cXwlrSyZMsQG",
        "outputId": "b0bea448-ecce-4a07-f207-f2109f4314be"
      },
      "execution_count": null,
      "outputs": [
        {
          "output_type": "stream",
          "name": "stdout",
          "text": [
            "Please reply with yes/Yes or no/No for the following symptoms\n",
            "dry cough ?\n",
            "yes\n",
            "['You are a Critical']\n",
            "\n"
          ]
        }
      ]
    },
    {
      "cell_type": "code",
      "source": [
        "df1=pd.read_csv('/content/DUmmy-hospital.csv')"
      ],
      "metadata": {
        "id": "e3joKLR04cKD"
      },
      "execution_count": null,
      "outputs": []
    },
    {
      "cell_type": "code",
      "source": [
        "df1"
      ],
      "metadata": {
        "colab": {
          "base_uri": "https://localhost:8080/",
          "height": 206
        },
        "id": "qp8R_RMLQ6yP",
        "outputId": "ed8582e2-9183-41f1-ba9f-c8bc1da036fe"
      },
      "execution_count": null,
      "outputs": [
        {
          "output_type": "execute_result",
          "data": {
            "text/plain": [
              "  Hospital Name   Total Beds   Beds avilable\n",
              "0              A           20              8\n",
              "1              B           30             12\n",
              "2              C           25              7\n",
              "3              D           22              5\n",
              "4              E           15              4"
            ],
            "text/html": [
              "\n",
              "  <div id=\"df-ca202844-dd21-4878-acd9-efd6d5c8092a\">\n",
              "    <div class=\"colab-df-container\">\n",
              "      <div>\n",
              "<style scoped>\n",
              "    .dataframe tbody tr th:only-of-type {\n",
              "        vertical-align: middle;\n",
              "    }\n",
              "\n",
              "    .dataframe tbody tr th {\n",
              "        vertical-align: top;\n",
              "    }\n",
              "\n",
              "    .dataframe thead th {\n",
              "        text-align: right;\n",
              "    }\n",
              "</style>\n",
              "<table border=\"1\" class=\"dataframe\">\n",
              "  <thead>\n",
              "    <tr style=\"text-align: right;\">\n",
              "      <th></th>\n",
              "      <th>Hospital Name</th>\n",
              "      <th>Total Beds</th>\n",
              "      <th>Beds avilable</th>\n",
              "    </tr>\n",
              "  </thead>\n",
              "  <tbody>\n",
              "    <tr>\n",
              "      <th>0</th>\n",
              "      <td>A</td>\n",
              "      <td>20</td>\n",
              "      <td>8</td>\n",
              "    </tr>\n",
              "    <tr>\n",
              "      <th>1</th>\n",
              "      <td>B</td>\n",
              "      <td>30</td>\n",
              "      <td>12</td>\n",
              "    </tr>\n",
              "    <tr>\n",
              "      <th>2</th>\n",
              "      <td>C</td>\n",
              "      <td>25</td>\n",
              "      <td>7</td>\n",
              "    </tr>\n",
              "    <tr>\n",
              "      <th>3</th>\n",
              "      <td>D</td>\n",
              "      <td>22</td>\n",
              "      <td>5</td>\n",
              "    </tr>\n",
              "    <tr>\n",
              "      <th>4</th>\n",
              "      <td>E</td>\n",
              "      <td>15</td>\n",
              "      <td>4</td>\n",
              "    </tr>\n",
              "  </tbody>\n",
              "</table>\n",
              "</div>\n",
              "      <button class=\"colab-df-convert\" onclick=\"convertToInteractive('df-ca202844-dd21-4878-acd9-efd6d5c8092a')\"\n",
              "              title=\"Convert this dataframe to an interactive table.\"\n",
              "              style=\"display:none;\">\n",
              "        \n",
              "  <svg xmlns=\"http://www.w3.org/2000/svg\" height=\"24px\"viewBox=\"0 0 24 24\"\n",
              "       width=\"24px\">\n",
              "    <path d=\"M0 0h24v24H0V0z\" fill=\"none\"/>\n",
              "    <path d=\"M18.56 5.44l.94 2.06.94-2.06 2.06-.94-2.06-.94-.94-2.06-.94 2.06-2.06.94zm-11 1L8.5 8.5l.94-2.06 2.06-.94-2.06-.94L8.5 2.5l-.94 2.06-2.06.94zm10 10l.94 2.06.94-2.06 2.06-.94-2.06-.94-.94-2.06-.94 2.06-2.06.94z\"/><path d=\"M17.41 7.96l-1.37-1.37c-.4-.4-.92-.59-1.43-.59-.52 0-1.04.2-1.43.59L10.3 9.45l-7.72 7.72c-.78.78-.78 2.05 0 2.83L4 21.41c.39.39.9.59 1.41.59.51 0 1.02-.2 1.41-.59l7.78-7.78 2.81-2.81c.8-.78.8-2.07 0-2.86zM5.41 20L4 18.59l7.72-7.72 1.47 1.35L5.41 20z\"/>\n",
              "  </svg>\n",
              "      </button>\n",
              "      \n",
              "  <style>\n",
              "    .colab-df-container {\n",
              "      display:flex;\n",
              "      flex-wrap:wrap;\n",
              "      gap: 12px;\n",
              "    }\n",
              "\n",
              "    .colab-df-convert {\n",
              "      background-color: #E8F0FE;\n",
              "      border: none;\n",
              "      border-radius: 50%;\n",
              "      cursor: pointer;\n",
              "      display: none;\n",
              "      fill: #1967D2;\n",
              "      height: 32px;\n",
              "      padding: 0 0 0 0;\n",
              "      width: 32px;\n",
              "    }\n",
              "\n",
              "    .colab-df-convert:hover {\n",
              "      background-color: #E2EBFA;\n",
              "      box-shadow: 0px 1px 2px rgba(60, 64, 67, 0.3), 0px 1px 3px 1px rgba(60, 64, 67, 0.15);\n",
              "      fill: #174EA6;\n",
              "    }\n",
              "\n",
              "    [theme=dark] .colab-df-convert {\n",
              "      background-color: #3B4455;\n",
              "      fill: #D2E3FC;\n",
              "    }\n",
              "\n",
              "    [theme=dark] .colab-df-convert:hover {\n",
              "      background-color: #434B5C;\n",
              "      box-shadow: 0px 1px 3px 1px rgba(0, 0, 0, 0.15);\n",
              "      filter: drop-shadow(0px 1px 2px rgba(0, 0, 0, 0.3));\n",
              "      fill: #FFFFFF;\n",
              "    }\n",
              "  </style>\n",
              "\n",
              "      <script>\n",
              "        const buttonEl =\n",
              "          document.querySelector('#df-ca202844-dd21-4878-acd9-efd6d5c8092a button.colab-df-convert');\n",
              "        buttonEl.style.display =\n",
              "          google.colab.kernel.accessAllowed ? 'block' : 'none';\n",
              "\n",
              "        async function convertToInteractive(key) {\n",
              "          const element = document.querySelector('#df-ca202844-dd21-4878-acd9-efd6d5c8092a');\n",
              "          const dataTable =\n",
              "            await google.colab.kernel.invokeFunction('convertToInteractive',\n",
              "                                                     [key], {});\n",
              "          if (!dataTable) return;\n",
              "\n",
              "          const docLinkHtml = 'Like what you see? Visit the ' +\n",
              "            '<a target=\"_blank\" href=https://colab.research.google.com/notebooks/data_table.ipynb>data table notebook</a>'\n",
              "            + ' to learn more about interactive tables.';\n",
              "          element.innerHTML = '';\n",
              "          dataTable['output_type'] = 'display_data';\n",
              "          await google.colab.output.renderOutput(dataTable, element);\n",
              "          const docLink = document.createElement('div');\n",
              "          docLink.innerHTML = docLinkHtml;\n",
              "          element.appendChild(docLink);\n",
              "        }\n",
              "      </script>\n",
              "    </div>\n",
              "  </div>\n",
              "  "
            ]
          },
          "metadata": {},
          "execution_count": 17
        }
      ]
    }
  ]
}